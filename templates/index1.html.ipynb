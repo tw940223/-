{
 "cells": [
  {
   "cell_type": "code",
   "execution_count": null,
   "metadata": {
    "vscode": {
     "languageId": "html"
    }
   },
   "outputs": [],
   "source": [
    "<!DOCTYPE html>\n",
    "<html>\n",
    "<head>\n",
    "    <meta charset=\"utf-8\">\n",
    "    <title>店家數量分布</title>\n",
    "</head>\n",
    "<body>\n",
    "    <h1>各地區店家數量分布</h1>\n",
    "    <h2>長條圖</h2>\n",
    "    <img src=\"data:image/png;base64, {{ bar_chart }}\" alt=\"Bar Chart\">\n",
    "    <h2>圓餅圖</h2>\n",
    "    <img src=\"data:image/png;base64, {{ pie_chart }}\" alt=\"Pie Chart\">\n",
    "</body>\n",
    "</html>\n"
   ]
  }
 ],
 "metadata": {
  "kernelspec": {
   "display_name": "Python 3",
   "language": "python",
   "name": "python3"
  },
  "language_info": {
   "name": "python",
   "version": "3.12.4"
  }
 },
 "nbformat": 4,
 "nbformat_minor": 2
}
