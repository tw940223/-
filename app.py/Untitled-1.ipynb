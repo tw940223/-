{
 "cells": [
  {
   "cell_type": "code",
   "execution_count": 1,
   "metadata": {},
   "outputs": [
    {
     "name": "stdout",
     "output_type": "stream",
     "text": [
      "數據已成功寫入 stores.csv 文件。\n"
     ]
    }
   ],
   "source": [
    "import requests\n",
    "from bs4 import BeautifulSoup\n",
    "import csv\n",
    "\n",
    "url = \"https://www.comebuy2002.com.tw/store/\"\n",
    "headers = {'User-Agent':'Mozilla/5.0 (Windows NT 10.0; Win64; x64) AppleWebKit/537.36 (KHTML, like Gecko) Chrome/126.0.0.0 Safari/537.36'}\n",
    "response = requests.get(url, headers=headers)\n",
    "soup = BeautifulSoup(response.text, \"html.parser\")\n",
    "articles = soup.find_all(\"li\", class_=\"g-mv-12 clearfix\")\n",
    "\n",
    "stores = []\n",
    "for a in articles:\n",
    "    store_name_tag = a.find(\"div\", class_=\"itemBox storeTitle\")\n",
    "    store_name = store_name_tag.text.strip() if store_name_tag else \"沒有店名\"\n",
    "    \n",
    "    store_address_tag = a.find(\"div\", class_=\"itemBox address\")\n",
    "    store_address = store_address_tag.text.strip() if store_address_tag else \"沒有地址\"\n",
    "   \n",
    "    store_phone_tag = a.find(\"div\", class_=\"itemBox tel\")\n",
    "    store_phone = store_phone_tag.find(\"a\").text.strip() if store_phone_tag and store_phone_tag.find(\"a\") else \"沒有電話\"\n",
    "    \n",
    "    stores.append([store_name, store_address, store_phone])\n",
    "\n",
    "# 將數據寫入 CSV 文件\n",
    "csv_file = 'stores.csv'\n",
    "with open(csv_file, mode='w', newline='', encoding='utf-8-sig') as file:\n",
    "    writer = csv.writer(file)\n",
    "    writer.writerow([\"store_name\", \"store_address\", \"store_phone\"])  # 寫入表頭\n",
    "    writer.writerows(stores)\n",
    "\n",
    "print(f\"數據已成功寫入 {csv_file} 文件。\")\n"
   ]
  },
  {
   "cell_type": "code",
   "execution_count": 7,
   "metadata": {},
   "outputs": [],
   "source": [
    "from flask import Flask, render_template_string, send_file\n",
    "from flask_sqlalchemy import SQLAlchemy\n",
    "import matplotlib.pyplot as plt\n",
    "import pandas as pd\n",
    "import io\n",
    "\n",
    "app = Flask(__name__)\n",
    "app.config['SQLALCHEMY_DATABASE_URI'] = 'mssql+pyodbc:///?' \\\n",
    "'driver=ODBC+Driver+17+for+SQL+Server&' \\\n",
    "'trusted_connection=yes&' \\\n",
    "'server=LAPTOP-QV5BBV9V&' \\\n",
    "'database=testdb1'\n",
    "db = SQLAlchemy(app)\n",
    "\n"
   ]
  },
  {
   "cell_type": "code",
   "execution_count": 8,
   "metadata": {},
   "outputs": [
    {
     "name": "stdout",
     "output_type": "stream",
     "text": [
      " * Serving Flask app '__main__'\n",
      " * Debug mode: off\n"
     ]
    },
    {
     "name": "stderr",
     "output_type": "stream",
     "text": [
      "WARNING: This is a development server. Do not use it in a production deployment. Use a production WSGI server instead.\n",
      " * Running on all addresses (0.0.0.0)\n",
      " * Running on http://127.0.0.1:5000\n",
      " * Running on http://192.168.1.104:5000\n",
      "Press CTRL+C to quit\n"
     ]
    }
   ],
   "source": [
    "@app.route('/')\n",
    "def index():\n",
    "    return \"資料庫連線成功！\"\n",
    "\n",
    "@app.route('/setup')\n",
    "def setup():\n",
    "    sql = '''\n",
    "    IF OBJECT_ID(N'comebuy', N'U') IS NOT NULL\n",
    "    DROP TABLE comebuy;\n",
    "    CREATE TABLE comebuy (\n",
    "    sid int NOT NULL IDENTITY(1,1) PRIMARY KEY,\n",
    "    store_name nvarchar(50) NOT NULL,\n",
    "    store_address nvarchar(200),\n",
    "    store_phone nvarchar(50)\n",
    "    )\n",
    "    '''\n",
    "    db.engine.execute(sql)\n",
    "    return \"資料表建立成功！\"\n",
    "\n",
    "@app.route('/insert')\n",
    "def insert():\n",
    "    with open('stores.csv', encoding='utf-8-sig') as file:\n",
    "        reader = csv.reader(file)\n",
    "        next(reader)  # 跳過表頭\n",
    "        for row in reader:\n",
    "            sql = f\"\"\"\n",
    "            INSERT INTO comebuy (store_name, store_address, store_phone) VALUES('{row[0]}', '{row[1]}', '{row[2]}');\n",
    "            \"\"\"\n",
    "            db.engine.execute(sql)\n",
    "    return \"資料新增成功！\"\n",
    "\n",
    "@app.route('/query')\n",
    "def query():\n",
    "    sql = \"SELECT * FROM comebuy ORDER BY sid\"\n",
    "    stores = db.engine.execute(sql)\n",
    "    msg = \"\"\n",
    "    for store in stores:\n",
    "        msg += f\"{store['store_name']}, {store['store_address']}, {store['store_phone']}<br>\"\n",
    "    return msg\n",
    "\n",
    "@app.route('/updateusr/<int:uid>')\n",
    "def updateusr(uid):\n",
    "    sql = \"UPDATE comebuy SET store_name = '更新的店名' WHERE sid = \" + str(uid)\n",
    "    db.engine.execute(sql)\n",
    "    return \"資料修改成功！\"\n",
    "\n",
    "@app.route('/deleusr/<int:uid>')\n",
    "def deleusr(uid):\n",
    "    sql = \"DELETE FROM comebuy WHERE sid = \" + str(uid)\n",
    "    db.engine.execute(sql)\n",
    "    return \"資料刪除成功！\"\n",
    "\n",
    "@app.route('/charts')\n",
    "def charts():\n",
    "    conn = db.engine.raw_connection()\n",
    "    df = pd.read_sql(\"SELECT store_name, COUNT(*) as count FROM comebuy GROUP BY store_name\", conn)\n",
    "    conn.close()\n",
    "    \n",
    "    # 長條圖\n",
    "    fig, ax = plt.subplots()\n",
    "    df.plot(kind='bar', x='store_name', y='count', ax=ax)\n",
    "    ax.set_xlabel(\"Store Name\")\n",
    "    ax.set_ylabel(\"Count\")\n",
    "    ax.set_title(\"Store Count by Name\")\n",
    "    buf_bar = io.BytesIO()\n",
    "    plt.savefig(buf_bar, format='png')\n",
    "    buf_bar.seek(0)\n",
    "    \n",
    "    # 圓餅圖\n",
    "    fig, ax = plt.subplots()\n",
    "    df.set_index('store_name').plot(kind='pie', y='count', ax=ax, autopct='%1.1f%%')\n",
    "    ax.set_ylabel(\"\")\n",
    "    ax.set_title(\"Store Distribution\")\n",
    "    buf_pie = io.BytesIO()\n",
    "    plt.savefig(buf_pie, format='png')\n",
    "    buf_pie.seek(0)\n",
    "    \n",
    "    html = '''\n",
    "    <!doctype html>\n",
    "    <html lang=\"zh-Hant\">\n",
    "      <head>\n",
    "        <meta charset=\"utf-8\">\n",
    "        <meta name=\"viewport\" content=\"width=device-width, initial-scale=1, shrink-to-fit=no\">\n",
    "        <title>Comebuy Charts</title>\n",
    "      </head>\n",
    "      <body>\n",
    "        <div class=\"container\">\n",
    "          <h1 class=\"mt-5\">Comebuy Charts</h1>\n",
    "          <h2>長條圖</h2>\n",
    "          <img src=\"data:image/png;base64,{}\" alt=\"Bar Chart\">\n",
    "          <h2>圓餅圖</h2>\n",
    "          <img src=\"data:image/png;base64,{}\" alt=\"Pie Chart\">\n",
    "        </div>\n",
    "      </body>\n",
    "    </html>\n",
    "    '''\n",
    "    \n",
    "    import base64\n",
    "    bar_chart = base64.b64encode(buf_bar.getvalue()).decode('utf-8')\n",
    "    pie_chart = base64.b64encode(buf_pie.getvalue()).decode('utf-8')\n",
    "    \n",
    "    return render_template_string(html.format(bar_chart, pie_chart))\n",
    "\n",
    "if __name__ == '__main__':\n",
    "    app.run(host='0.0.0.0', port=5000, debug=False)\n",
    "\n"
   ]
  },
  {
   "cell_type": "code",
   "execution_count": null,
   "metadata": {},
   "outputs": [
    {
     "name": "stdout",
     "output_type": "stream",
     "text": [
      " * Serving Flask app '__main__'\n",
      " * Debug mode: off\n"
     ]
    },
    {
     "name": "stderr",
     "output_type": "stream",
     "text": [
      "WARNING: This is a development server. Do not use it in a production deployment. Use a production WSGI server instead.\n",
      " * Running on all addresses (0.0.0.0)\n",
      " * Running on http://127.0.0.1:5000\n",
      " * Running on http://192.168.1.104:5000\n",
      "Press CTRL+C to quit\n"
     ]
    }
   ],
   "source": [
    "import threading\n",
    "\n",
    "def run_flask():\n",
    "    app.run(host='0.0.0.0', port=5000, debug=False)\n",
    "\n",
    "thread = threading.Thread(target=run_flask)\n",
    "thread.start()\n",
    "\n"
   ]
  }
 ],
 "metadata": {
  "kernelspec": {
   "display_name": "Python 3",
   "language": "python",
   "name": "python3"
  },
  "language_info": {
   "codemirror_mode": {
    "name": "ipython",
    "version": 3
   },
   "file_extension": ".py",
   "mimetype": "text/x-python",
   "name": "python",
   "nbconvert_exporter": "python",
   "pygments_lexer": "ipython3",
   "version": "3.12.4"
  }
 },
 "nbformat": 4,
 "nbformat_minor": 2
}
